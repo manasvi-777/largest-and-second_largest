{
 "cells": [
  {
   "cell_type": "code",
   "execution_count": null,
   "id": "72476859",
   "metadata": {},
   "outputs": [],
   "source": [
    "'''\n",
    "Write a Python code to display the second largest number in the given list of numbers without sorting the list.\n",
    "Input: Set of numbers are given in the Python data structure named list.\n",
    "Output: Second largest number in that list is display.\n",
    "\n",
    "Test case 1:\n",
    "-6\n",
    "-9\n",
    "-300\n",
    "-78\n",
    "Output:\n",
    "-9\n",
    "\n",
    "Test case 2:\n",
    "90\n",
    "45\n",
    "321\n",
    "-900\n",
    "Output:\n",
    "90\n",
    "'''"
   ]
  },
  {
   "cell_type": "code",
   "execution_count": 12,
   "id": "3460916b",
   "metadata": {},
   "outputs": [
    {
     "name": "stdout",
     "output_type": "stream",
     "text": [
      "-6\n",
      "-9\n",
      "-300\n",
      "-78\n",
      "\n",
      "-9\n"
     ]
    }
   ],
   "source": [
    "l=[]\n",
    "\n",
    "# inputting numbers in different lines and adding them into the list l\n",
    "while True:\n",
    "    n=input()\n",
    "    if n==\"\":\n",
    "        break\n",
    "    else:\n",
    "        l.append(int(n))\n",
    "\n",
    "# assigning values to the variables max and s_max as the first two numbers of the list\n",
    "max,s_max=l[0],l[1]\n",
    "\n",
    "# finding maximum/largest number\n",
    "for i in range(len(l)):\n",
    "    if l[i]>max:\n",
    "        max=l[i]\n",
    "        \n",
    "# finding the second largest number\n",
    "for i in range(len(l)):\n",
    "    if l[i]>s_max and l[i]<max:\n",
    "        s_max=l[i]\n",
    "\n",
    "# printing second largest number in the given list\n",
    "print(s_max)"
   ]
  },
  {
   "cell_type": "code",
   "execution_count": null,
   "id": "81ec17c2",
   "metadata": {},
   "outputs": [],
   "source": []
  }
 ],
 "metadata": {
  "kernelspec": {
   "display_name": "Python 3 (ipykernel)",
   "language": "python",
   "name": "python3"
  },
  "language_info": {
   "codemirror_mode": {
    "name": "ipython",
    "version": 3
   },
   "file_extension": ".py",
   "mimetype": "text/x-python",
   "name": "python",
   "nbconvert_exporter": "python",
   "pygments_lexer": "ipython3",
   "version": "3.9.13"
  }
 },
 "nbformat": 4,
 "nbformat_minor": 5
}
